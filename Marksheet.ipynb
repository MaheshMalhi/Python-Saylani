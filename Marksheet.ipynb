{
 "cells": [
  {
   "cell_type": "code",
   "execution_count": 1,
   "metadata": {},
   "outputs": [
    {
     "name": "stdout",
     "output_type": "stream",
     "text": [
      "Enter your RollNo. 385\n",
      "Enter your name Mahesh\n",
      "Enter your gender Male\n",
      "Enter your class XII\n",
      "Enter English Marks: 98\n",
      "Enter Physics Marks: 75\n",
      "Enter chemistry Marks: 88\n",
      "Enter Urdu Marks 97\n",
      "Enter Mathematics Marks: 94\n",
      "----------STUDENT'S MARKSHEET----------\n",
      "Your Roll No. is: 385\n",
      "Your Name is: Mahesh\n",
      "Your Gender is: Male\n",
      "Your Class is: XII\n",
      "Total Marks are: 500\n",
      "Obtained Marks are: 452\n",
      "Your Percentahe is: 90.4%\n",
      "Grade A+\n"
     ]
    }
   ],
   "source": [
    "rollNo =  input(\"Enter your RollNo. \");\n",
    "name   =  input(\"Enter your name \");\n",
    "gender =  input(\"Enter your gender \");\n",
    "Class  =  input(\"Enter your class \");\n",
    "eng = int(input(\"Enter English Marks: \"));\n",
    "phy = int(input(\"Enter Physics Marks: \"));\n",
    "che = int(input(\"Enter chemistry Marks: \"));\n",
    "urd = int(input(\"Enter Urdu Marks \"));\n",
    "mat = int(input(\"Enter Mathematics Marks: \"));\n",
    "obtained_marks = (eng + phy + che + urd + mat);\n",
    "percentage = (obtained_marks/500)*100;\n",
    "print(\"----------STUDENT'S MARKSHEET----------\");\n",
    "print(\"Your Roll No. is: \" + rollNo)\n",
    "print(\"Your Name is: \" + name);\n",
    "print(\"Your Gender is: \" + gender);\n",
    "print(\"Your Class is: \" + Class);\n",
    "print(\"Total Marks are: 500\");\n",
    "print(\"Obtained Marks are: \" + str(obtained_marks));\n",
    "print(\"Your Percentahe is: \" + str(percentage) + \"%\");\n",
    "if percentage >= 90:\n",
    "    print(\"Grade A+\");\n",
    "elif percentage >= 80:\n",
    "    print(\"Grade A\");\n",
    "elif percentage >= 70:\n",
    "    print(\"Grade B\")\n",
    "elif percentage >= 60:\n",
    "    print(\"Grade C\")\n",
    "else :\n",
    "    print(\"Grade F\");"
   ]
  },
  {
   "cell_type": "code",
   "execution_count": null,
   "metadata": {},
   "outputs": [],
   "source": []
  }
 ],
 "metadata": {
  "kernelspec": {
   "display_name": "Python 3",
   "language": "python",
   "name": "python3"
  },
  "language_info": {
   "codemirror_mode": {
    "name": "ipython",
    "version": 3
   },
   "file_extension": ".py",
   "mimetype": "text/x-python",
   "name": "python",
   "nbconvert_exporter": "python",
   "pygments_lexer": "ipython3",
   "version": "3.6.5"
  }
 },
 "nbformat": 4,
 "nbformat_minor": 2
}

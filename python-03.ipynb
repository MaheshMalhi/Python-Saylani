{
 "cells": [
  {
   "cell_type": "code",
   "execution_count": 6,
   "metadata": {},
   "outputs": [
    {
     "name": "stdout",
     "output_type": "stream",
     "text": [
      "Enter Your First Number 7\n",
      "Enter Your Second Number 2\n",
      "Enter Your Operater **\n",
      "49 Answer\n"
     ]
    }
   ],
   "source": [
    "num1 = int(input(\"Enter Your First Number \"))\n",
    "num2 = int(input(\"Enter Your Second Number \"))\n",
    "operater = input(\"Enter Your Operater \")\n",
    "if operater == \"+\":\n",
    "    val = num1 + num2\n",
    "    print(val , 'Answer')\n",
    "elif operater == \"-\":\n",
    "    val = num1 - num2\n",
    "    print(val , 'Answer')\n",
    "elif operater == \"*\":\n",
    "    val = num1 * num2\n",
    "    print(val , 'Answer')\n",
    "elif operater == \"/\":\n",
    "    val = num1 / num2\n",
    "    print(val , 'Answer')\n",
    "elif operater == \"**\":\n",
    "    val = num1 ** num2\n",
    "    print(val , 'Answer')"
   ]
  },
  {
   "cell_type": "code",
   "execution_count": 32,
   "metadata": {},
   "outputs": [
    {
     "name": "stdout",
     "output_type": "stream",
     "text": [
      "Enter Value to Check 4\n",
      "This value is present in this list \n"
     ]
    }
   ],
   "source": [
    "val1 = [5 , 7 , 4 , 9 , 6 , 3]\n",
    "val1 = input(\"Enter Value to Check \")\n",
    "for check_val in val1:\n",
    "    break\n",
    "if val1 == check_val:\n",
    "    print(\"This value is present in this list \")\n",
    "    \n",
    "else:\n",
    "    print(\"Not Present plz Try Again \")\n"
   ]
  },
  {
   "cell_type": "code",
   "execution_count": 46,
   "metadata": {},
   "outputs": [
    {
     "name": "stdout",
     "output_type": "stream",
     "text": [
      "{'first name': 'David', 'last name': 'Warner', 'Address': 'Austeralia', 'left hand': 'Batsman'}\n"
     ]
    }
   ],
   "source": [
    "customer = {\n",
    "            \"first name\":\"David\",\n",
    "            \"last name\" : \"Warner\",\n",
    "            \"Address\" : \"Austeralia\",          \n",
    "}\n",
    "customer['left hand'] = 'Batsman'\n",
    "print(customer)"
   ]
  },
  {
   "cell_type": "code",
   "execution_count": 51,
   "metadata": {},
   "outputs": [
    {
     "name": "stdout",
     "output_type": "stream",
     "text": [
      "Sum : 107\n"
     ]
    }
   ],
   "source": [
    "def returnSum(dict): \n",
    "      \n",
    "     sum = 0\n",
    "     for add in dict.values(): \n",
    "           sum = sum + add \n",
    "       \n",
    "     return sum\n",
    "  \n",
    "\n",
    "dict = {'a': 25, 'b':18, 'c':64} \n",
    "print(\"Sum :\", returnSum(dict)) "
   ]
  },
  {
   "cell_type": "code",
   "execution_count": 56,
   "metadata": {},
   "outputs": [
    {
     "name": "stdout",
     "output_type": "stream",
     "text": [
      "[1, 4, 5, 3, 2]\n"
     ]
    }
   ],
   "source": [
    "list = [1 , 4 , 5 , 3 , 2 , 3 , 5 , 4 , 2 , 1]\n",
    "unique_list = []\n",
    "for a in list:\n",
    "    if a not in unique_list:\n",
    "        unique_list.append(a)\n",
    "print(unique_list)\n",
    "        \n",
    "\n"
   ]
  },
  {
   "cell_type": "code",
   "execution_count": 60,
   "metadata": {},
   "outputs": [
    {
     "name": "stdout",
     "output_type": "stream",
     "text": [
      "Enter the Key to be verified: Johan\n",
      "Key does'nt present in the dictionary: \n"
     ]
    }
   ],
   "source": [
    "d = {'Finland': 550 , 'Norway' : 430 , 'Smith' : 235 , 'Maxwell' : 164}\n",
    "user_ip = input(\"Enter the Key to be verified: \")\n",
    "if user_ip in d.keys():\n",
    "    print(\"Key is present in the dictionary: \")\n",
    "    print('value' , ':' , d[user_ip])\n",
    "else:\n",
    "    print(\"Key does'nt present in the dictionary: \")\n"
   ]
  },
  {
   "cell_type": "code",
   "execution_count": null,
   "metadata": {},
   "outputs": [],
   "source": []
  }
 ],
 "metadata": {
  "kernelspec": {
   "display_name": "Python 3",
   "language": "python",
   "name": "python3"
  },
  "language_info": {
   "codemirror_mode": {
    "name": "ipython",
    "version": 3
   },
   "file_extension": ".py",
   "mimetype": "text/x-python",
   "name": "python",
   "nbconvert_exporter": "python",
   "pygments_lexer": "ipython3",
   "version": "3.6.5"
  }
 },
 "nbformat": 4,
 "nbformat_minor": 2
}
